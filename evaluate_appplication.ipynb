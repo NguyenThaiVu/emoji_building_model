{
 "cells": [
  {
   "cell_type": "markdown",
   "metadata": {},
   "source": [
    "# Description\n",
    "\n",
    "In this notebook, I will explore the real query text for the emojify application"
   ]
  },
  {
   "cell_type": "code",
   "execution_count": 1,
   "metadata": {},
   "outputs": [],
   "source": [
    "import os \n",
    "import joblib\n",
    "import sys\n",
    "import yaml\n",
    "from comet_ml import Experiment\n",
    "\n",
    "from utils.utils_read_dataset import *\n",
    "from utils.utils_model import *"
   ]
  },
  {
   "cell_type": "markdown",
   "metadata": {},
   "source": [
    "# 1. Load and Test model"
   ]
  },
  {
   "cell_type": "code",
   "execution_count": 2,
   "metadata": {},
   "outputs": [],
   "source": [
    "PATH_FILE_PRETRAIN_GLOVE = r\"models/glove.6B.50d.txt\"\n",
    "PATH_LABEL_ENCODER = r\"models/label_encoder_3.joblib\"\n",
    "PATH_TRAIN_XGB_MODEL = r\"models/xgboost_model_3.joblib\"\n",
    "\n",
    "PATH_CONFIG_YAML_FILE = r\"config.yaml\"\n",
    "with open(PATH_CONFIG_YAML_FILE, 'r') as file:\n",
    "    config = yaml.safe_load(file)\n",
    "\n",
    "TOP_K = config['prediction']['top_k']"
   ]
  },
  {
   "cell_type": "code",
   "execution_count": 3,
   "metadata": {},
   "outputs": [],
   "source": [
    "# Load model\n",
    "glove_embed = load_glove_embeddings(PATH_FILE_PRETRAIN_GLOVE)\n",
    "\n",
    "label_encoder = joblib.load(PATH_LABEL_ENCODER)\n",
    "\n",
    "xgb_model = joblib.load(PATH_TRAIN_XGB_MODEL)"
   ]
  },
  {
   "cell_type": "code",
   "execution_count": 10,
   "metadata": {},
   "outputs": [
    {
     "name": "stdout",
     "output_type": "stream",
     "text": [
      "🐦\n",
      "🐳\n",
      "🐜\n",
      "🍖\n",
      "🐗\n",
      "🐫\n",
      "♣\n",
      "💗\n",
      "😿\n",
      "🐘\n",
      "♠\n",
      "🐡\n",
      "🐮\n",
      "👽\n",
      "👨\n"
     ]
    }
   ],
   "source": [
    "input_text = \"animal\"\n",
    "\n",
    "list_predcited_emotion = get_top_k_prediction(xgb_model, input_text, TOP_K, glove_embed, label_encoder)\n",
    "\n",
    "for predcited_emotion in list_predcited_emotion:\n",
    "    print(predcited_emotion)"
   ]
  },
  {
   "cell_type": "markdown",
   "metadata": {},
   "source": [
    "# 2. Upload model into `Comet`"
   ]
  },
  {
   "cell_type": "code",
   "execution_count": 11,
   "metadata": {},
   "outputs": [
    {
     "name": "stderr",
     "output_type": "stream",
     "text": [
      "\u001b[1;38;5;214mCOMET WARNING:\u001b[0m As you are running in a Jupyter environment, you will need to call `experiment.end()` when finished to ensure all metrics and code are logged before exiting.\n",
      "\u001b[1;38;5;39mCOMET INFO:\u001b[0m Experiment is live on comet.com https://www.comet.com/thaiv7/emoji-search-app/76dbacec0ead4bcda69e3d8ed5d30a86\n",
      "\n"
     ]
    }
   ],
   "source": [
    "# Initialize the Comet experiment\n",
    "comet_api_key = config['programming']['comet_api_key']\n",
    "comet_project_name = config['programming']['comet_project_name']\n",
    "comet_workspace = config['programming']['comet_workspace']\n",
    "\n",
    "experiment = Experiment(\n",
    "    api_key = comet_api_key,\n",
    "    project_name = comet_project_name,\n",
    "    workspace = comet_workspace\n",
    ")"
   ]
  },
  {
   "cell_type": "code",
   "execution_count": 12,
   "metadata": {},
   "outputs": [
    {
     "data": {
      "text/plain": [
       "{'web': 'https://www.comet.com/api/asset/download?assetId=85472f8de44443c7ba875e41af6fce54&experimentKey=76dbacec0ead4bcda69e3d8ed5d30a86',\n",
       " 'api': 'https://www.comet.com/api/rest/v2/experiment/asset/get-asset?assetId=85472f8de44443c7ba875e41af6fce54&experimentKey=76dbacec0ead4bcda69e3d8ed5d30a86',\n",
       " 'assetId': '85472f8de44443c7ba875e41af6fce54'}"
      ]
     },
     "execution_count": 12,
     "metadata": {},
     "output_type": "execute_result"
    }
   ],
   "source": [
    "# Log the model to Comet\n",
    "experiment.log_model(name=\"pretrain_glove_model\", file_or_folder=PATH_FILE_PRETRAIN_GLOVE)\n",
    "experiment.log_model(name=\"label_encoder\", file_or_folder=PATH_LABEL_ENCODER)\n",
    "experiment.log_model(name=\"xgb_model\", file_or_folder=PATH_TRAIN_XGB_MODEL)"
   ]
  },
  {
   "cell_type": "code",
   "execution_count": 13,
   "metadata": {},
   "outputs": [
    {
     "name": "stderr",
     "output_type": "stream",
     "text": [
      "\u001b[1;38;5;39mCOMET INFO:\u001b[0m ---------------------------------------------------------------------------------------\n",
      "\u001b[1;38;5;39mCOMET INFO:\u001b[0m Comet.ml Experiment Summary\n",
      "\u001b[1;38;5;39mCOMET INFO:\u001b[0m ---------------------------------------------------------------------------------------\n",
      "\u001b[1;38;5;39mCOMET INFO:\u001b[0m   Data:\n",
      "\u001b[1;38;5;39mCOMET INFO:\u001b[0m     display_summary_level : 1\n",
      "\u001b[1;38;5;39mCOMET INFO:\u001b[0m     name                  : safe_airport_3786\n",
      "\u001b[1;38;5;39mCOMET INFO:\u001b[0m     url                   : https://www.comet.com/thaiv7/emoji-search-app/76dbacec0ead4bcda69e3d8ed5d30a86\n",
      "\u001b[1;38;5;39mCOMET INFO:\u001b[0m   Uploads:\n",
      "\u001b[1;38;5;39mCOMET INFO:\u001b[0m     conda-environment-definition : 1\n",
      "\u001b[1;38;5;39mCOMET INFO:\u001b[0m     conda-info                   : 1\n",
      "\u001b[1;38;5;39mCOMET INFO:\u001b[0m     conda-specification          : 1\n",
      "\u001b[1;38;5;39mCOMET INFO:\u001b[0m     environment details          : 1\n",
      "\u001b[1;38;5;39mCOMET INFO:\u001b[0m     filename                     : 1\n",
      "\u001b[1;38;5;39mCOMET INFO:\u001b[0m     git metadata                 : 1\n",
      "\u001b[1;38;5;39mCOMET INFO:\u001b[0m     git-patch (uncompressed)     : 1 (77.73 KB)\n",
      "\u001b[1;38;5;39mCOMET INFO:\u001b[0m     installed packages           : 1\n",
      "\u001b[1;38;5;39mCOMET INFO:\u001b[0m     model-element                : 3 (216.79 MB)\n",
      "\u001b[1;38;5;39mCOMET INFO:\u001b[0m     notebook                     : 1\n",
      "\u001b[1;38;5;39mCOMET INFO:\u001b[0m     os packages                  : 1\n",
      "\u001b[1;38;5;39mCOMET INFO:\u001b[0m     source_code                  : 1\n",
      "\u001b[1;38;5;39mCOMET INFO:\u001b[0m \n",
      "\u001b[1;38;5;39mCOMET INFO:\u001b[0m Please wait for assets to finish uploading (timeout is 10800 seconds)\n",
      "\u001b[1;38;5;39mCOMET INFO:\u001b[0m Still uploading 2 file(s), remaining 161.78 MB/216.78 MB\n",
      "\u001b[1;38;5;39mCOMET INFO:\u001b[0m Still uploading 1 asset(s), remaining 113.41 MB/163.41 MB, Throughput 3.22 MB/s, ETA ~36s\n",
      "\u001b[1;38;5;39mCOMET INFO:\u001b[0m Still uploading 1 asset(s), remaining 63.41 MB/163.41 MB, Throughput 3.33 MB/s, ETA ~20s\n",
      "\u001b[1;38;5;39mCOMET INFO:\u001b[0m Still uploading 1 asset(s), remaining 18.41 MB/163.41 MB, Throughput 3.00 MB/s, ETA ~7s\n"
     ]
    }
   ],
   "source": [
    "experiment.end()"
   ]
  },
  {
   "cell_type": "code",
   "execution_count": null,
   "metadata": {},
   "outputs": [],
   "source": []
  }
 ],
 "metadata": {
  "kernelspec": {
   "display_name": "ds_env",
   "language": "python",
   "name": "python3"
  },
  "language_info": {
   "codemirror_mode": {
    "name": "ipython",
    "version": 3
   },
   "file_extension": ".py",
   "mimetype": "text/x-python",
   "name": "python",
   "nbconvert_exporter": "python",
   "pygments_lexer": "ipython3",
   "version": "3.10.14"
  }
 },
 "nbformat": 4,
 "nbformat_minor": 2
}
