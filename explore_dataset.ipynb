{
 "cells": [
  {
   "cell_type": "markdown",
   "metadata": {},
   "source": [
    "# Description\n",
    "\n",
    "In this notebook, I will read, explore and load dataset"
   ]
  },
  {
   "cell_type": "code",
   "execution_count": 13,
   "metadata": {},
   "outputs": [],
   "source": [
    "import os\n",
    "import numpy as np\n",
    "import pandas as pd \n",
    "import matplotlib.pyplot as plt\n",
    "from collections import Counter\n",
    "import gensim\n",
    "import gensim.downloader as api\n",
    "import multiprocessing\n",
    "\n",
    "from utils.utils_read_dataset import *\n",
    "from utils.util_data_augmentation import *"
   ]
  },
  {
   "cell_type": "code",
   "execution_count": 2,
   "metadata": {},
   "outputs": [],
   "source": [
    "PATH_CSV_FILE = r\"data/raw_data/full_emoji.csv\"\n",
    "LIST_COLUMNS = ['emoji', 'unicode', 'name']\n",
    "\n",
    "PATH_FOLDER_PROCESSED_DATA = r\"data/processed_data\"\n",
    "\n",
    "N_SAMPLES = 1_000\n",
    "\n",
    "GLOVE_SIMILAR_MODEL = gensim.downloader.load(\"glove-wiki-gigaword-50\")"
   ]
  },
  {
   "cell_type": "markdown",
   "metadata": {},
   "source": [
    "# 1. Read dataset"
   ]
  },
  {
   "cell_type": "code",
   "execution_count": 3,
   "metadata": {},
   "outputs": [
    {
     "name": "stdout",
     "output_type": "stream",
     "text": [
      "Shape of df_raw: (708, 13)\n"
     ]
    },
    {
     "data": {
      "text/html": [
       "<div>\n",
       "<style scoped>\n",
       "    .dataframe tbody tr th:only-of-type {\n",
       "        vertical-align: middle;\n",
       "    }\n",
       "\n",
       "    .dataframe tbody tr th {\n",
       "        vertical-align: top;\n",
       "    }\n",
       "\n",
       "    .dataframe thead th {\n",
       "        text-align: right;\n",
       "    }\n",
       "</style>\n",
       "<table border=\"1\" class=\"dataframe\">\n",
       "  <thead>\n",
       "    <tr style=\"text-align: right;\">\n",
       "      <th></th>\n",
       "      <th>index</th>\n",
       "      <th>#</th>\n",
       "      <th>emoji</th>\n",
       "      <th>unicode</th>\n",
       "      <th>name</th>\n",
       "      <th>Apple</th>\n",
       "      <th>Google</th>\n",
       "      <th>Facebook</th>\n",
       "      <th>Windows</th>\n",
       "      <th>Twitter</th>\n",
       "      <th>JoyPixels</th>\n",
       "      <th>Samsung</th>\n",
       "      <th>Gmail</th>\n",
       "    </tr>\n",
       "  </thead>\n",
       "  <tbody>\n",
       "    <tr>\n",
       "      <th>0</th>\n",
       "      <td>0</td>\n",
       "      <td>1</td>\n",
       "      <td>😀</td>\n",
       "      <td>U+1F600</td>\n",
       "      <td>grinning face</td>\n",
       "      <td>data:image/png;base64,iVBORw0KGgoAAAANSUhEUgAA...</td>\n",
       "      <td>data:image/png;base64,iVBORw0KGgoAAAANSUhEUgAA...</td>\n",
       "      <td>data:image/png;base64,iVBORw0KGgoAAAANSUhEUgAA...</td>\n",
       "      <td>data:image/png;base64,iVBORw0KGgoAAAANSUhEUgAA...</td>\n",
       "      <td>data:image/png;base64,iVBORw0KGgoAAAANSUhEUgAA...</td>\n",
       "      <td>data:image/png;base64,iVBORw0KGgoAAAANSUhEUgAA...</td>\n",
       "      <td>data:image/png;base64,iVBORw0KGgoAAAANSUhEUgAA...</td>\n",
       "      <td>data:image/png;base64,R0lGODlhDAAPAKIFAJh3AP/z...</td>\n",
       "    </tr>\n",
       "    <tr>\n",
       "      <th>1</th>\n",
       "      <td>1</td>\n",
       "      <td>2</td>\n",
       "      <td>😃</td>\n",
       "      <td>U+1F603</td>\n",
       "      <td>grinning face with big eyes</td>\n",
       "      <td>data:image/png;base64,iVBORw0KGgoAAAANSUhEUgAA...</td>\n",
       "      <td>data:image/png;base64,iVBORw0KGgoAAAANSUhEUgAA...</td>\n",
       "      <td>data:image/png;base64,iVBORw0KGgoAAAANSUhEUgAA...</td>\n",
       "      <td>data:image/png;base64,iVBORw0KGgoAAAANSUhEUgAA...</td>\n",
       "      <td>data:image/png;base64,iVBORw0KGgoAAAANSUhEUgAA...</td>\n",
       "      <td>data:image/png;base64,iVBORw0KGgoAAAANSUhEUgAA...</td>\n",
       "      <td>data:image/png;base64,iVBORw0KGgoAAAANSUhEUgAA...</td>\n",
       "      <td>data:image/png;base64,R0lGODlhDAAMAKIFAF5LAP/z...</td>\n",
       "    </tr>\n",
       "    <tr>\n",
       "      <th>2</th>\n",
       "      <td>2</td>\n",
       "      <td>3</td>\n",
       "      <td>😄</td>\n",
       "      <td>U+1F604</td>\n",
       "      <td>grinning face with smiling eyes</td>\n",
       "      <td>data:image/png;base64,iVBORw0KGgoAAAANSUhEUgAA...</td>\n",
       "      <td>data:image/png;base64,iVBORw0KGgoAAAANSUhEUgAA...</td>\n",
       "      <td>data:image/png;base64,iVBORw0KGgoAAAANSUhEUgAA...</td>\n",
       "      <td>data:image/png;base64,iVBORw0KGgoAAAANSUhEUgAA...</td>\n",
       "      <td>data:image/png;base64,iVBORw0KGgoAAAANSUhEUgAA...</td>\n",
       "      <td>data:image/png;base64,iVBORw0KGgoAAAANSUhEUgAA...</td>\n",
       "      <td>data:image/png;base64,iVBORw0KGgoAAAANSUhEUgAA...</td>\n",
       "      <td>data:image/png;base64,R0lGODlhDAAMAKIGAF5LAJh3...</td>\n",
       "    </tr>\n",
       "    <tr>\n",
       "      <th>3</th>\n",
       "      <td>3</td>\n",
       "      <td>4</td>\n",
       "      <td>😁</td>\n",
       "      <td>U+1F601</td>\n",
       "      <td>beaming face with smiling eyes</td>\n",
       "      <td>data:image/png;base64,iVBORw0KGgoAAAANSUhEUgAA...</td>\n",
       "      <td>data:image/png;base64,iVBORw0KGgoAAAANSUhEUgAA...</td>\n",
       "      <td>data:image/png;base64,iVBORw0KGgoAAAANSUhEUgAA...</td>\n",
       "      <td>data:image/png;base64,iVBORw0KGgoAAAANSUhEUgAA...</td>\n",
       "      <td>data:image/png;base64,iVBORw0KGgoAAAANSUhEUgAA...</td>\n",
       "      <td>data:image/png;base64,iVBORw0KGgoAAAANSUhEUgAA...</td>\n",
       "      <td>data:image/png;base64,iVBORw0KGgoAAAANSUhEUgAA...</td>\n",
       "      <td>data:image/png;base64,R0lGODlhDAAMAKIGAIoAAf/v...</td>\n",
       "    </tr>\n",
       "    <tr>\n",
       "      <th>4</th>\n",
       "      <td>4</td>\n",
       "      <td>5</td>\n",
       "      <td>😆</td>\n",
       "      <td>U+1F606</td>\n",
       "      <td>grinning squinting face</td>\n",
       "      <td>data:image/png;base64,iVBORw0KGgoAAAANSUhEUgAA...</td>\n",
       "      <td>data:image/png;base64,iVBORw0KGgoAAAANSUhEUgAA...</td>\n",
       "      <td>data:image/png;base64,iVBORw0KGgoAAAANSUhEUgAA...</td>\n",
       "      <td>data:image/png;base64,iVBORw0KGgoAAAANSUhEUgAA...</td>\n",
       "      <td>data:image/png;base64,iVBORw0KGgoAAAANSUhEUgAA...</td>\n",
       "      <td>data:image/png;base64,iVBORw0KGgoAAAANSUhEUgAA...</td>\n",
       "      <td>data:image/png;base64,iVBORw0KGgoAAAANSUhEUgAA...</td>\n",
       "      <td>data:image/png;base64,R0lGODlhEAAMAKIFAF5LAP/z...</td>\n",
       "    </tr>\n",
       "  </tbody>\n",
       "</table>\n",
       "</div>"
      ],
      "text/plain": [
       "   index  # emoji  unicode                             name  \\\n",
       "0      0  1     😀  U+1F600                    grinning face   \n",
       "1      1  2     😃  U+1F603      grinning face with big eyes   \n",
       "2      2  3     😄  U+1F604  grinning face with smiling eyes   \n",
       "3      3  4     😁  U+1F601   beaming face with smiling eyes   \n",
       "4      4  5     😆  U+1F606          grinning squinting face   \n",
       "\n",
       "                                               Apple  \\\n",
       "0  data:image/png;base64,iVBORw0KGgoAAAANSUhEUgAA...   \n",
       "1  data:image/png;base64,iVBORw0KGgoAAAANSUhEUgAA...   \n",
       "2  data:image/png;base64,iVBORw0KGgoAAAANSUhEUgAA...   \n",
       "3  data:image/png;base64,iVBORw0KGgoAAAANSUhEUgAA...   \n",
       "4  data:image/png;base64,iVBORw0KGgoAAAANSUhEUgAA...   \n",
       "\n",
       "                                              Google  \\\n",
       "0  data:image/png;base64,iVBORw0KGgoAAAANSUhEUgAA...   \n",
       "1  data:image/png;base64,iVBORw0KGgoAAAANSUhEUgAA...   \n",
       "2  data:image/png;base64,iVBORw0KGgoAAAANSUhEUgAA...   \n",
       "3  data:image/png;base64,iVBORw0KGgoAAAANSUhEUgAA...   \n",
       "4  data:image/png;base64,iVBORw0KGgoAAAANSUhEUgAA...   \n",
       "\n",
       "                                            Facebook  \\\n",
       "0  data:image/png;base64,iVBORw0KGgoAAAANSUhEUgAA...   \n",
       "1  data:image/png;base64,iVBORw0KGgoAAAANSUhEUgAA...   \n",
       "2  data:image/png;base64,iVBORw0KGgoAAAANSUhEUgAA...   \n",
       "3  data:image/png;base64,iVBORw0KGgoAAAANSUhEUgAA...   \n",
       "4  data:image/png;base64,iVBORw0KGgoAAAANSUhEUgAA...   \n",
       "\n",
       "                                             Windows  \\\n",
       "0  data:image/png;base64,iVBORw0KGgoAAAANSUhEUgAA...   \n",
       "1  data:image/png;base64,iVBORw0KGgoAAAANSUhEUgAA...   \n",
       "2  data:image/png;base64,iVBORw0KGgoAAAANSUhEUgAA...   \n",
       "3  data:image/png;base64,iVBORw0KGgoAAAANSUhEUgAA...   \n",
       "4  data:image/png;base64,iVBORw0KGgoAAAANSUhEUgAA...   \n",
       "\n",
       "                                             Twitter  \\\n",
       "0  data:image/png;base64,iVBORw0KGgoAAAANSUhEUgAA...   \n",
       "1  data:image/png;base64,iVBORw0KGgoAAAANSUhEUgAA...   \n",
       "2  data:image/png;base64,iVBORw0KGgoAAAANSUhEUgAA...   \n",
       "3  data:image/png;base64,iVBORw0KGgoAAAANSUhEUgAA...   \n",
       "4  data:image/png;base64,iVBORw0KGgoAAAANSUhEUgAA...   \n",
       "\n",
       "                                           JoyPixels  \\\n",
       "0  data:image/png;base64,iVBORw0KGgoAAAANSUhEUgAA...   \n",
       "1  data:image/png;base64,iVBORw0KGgoAAAANSUhEUgAA...   \n",
       "2  data:image/png;base64,iVBORw0KGgoAAAANSUhEUgAA...   \n",
       "3  data:image/png;base64,iVBORw0KGgoAAAANSUhEUgAA...   \n",
       "4  data:image/png;base64,iVBORw0KGgoAAAANSUhEUgAA...   \n",
       "\n",
       "                                             Samsung  \\\n",
       "0  data:image/png;base64,iVBORw0KGgoAAAANSUhEUgAA...   \n",
       "1  data:image/png;base64,iVBORw0KGgoAAAANSUhEUgAA...   \n",
       "2  data:image/png;base64,iVBORw0KGgoAAAANSUhEUgAA...   \n",
       "3  data:image/png;base64,iVBORw0KGgoAAAANSUhEUgAA...   \n",
       "4  data:image/png;base64,iVBORw0KGgoAAAANSUhEUgAA...   \n",
       "\n",
       "                                               Gmail  \n",
       "0  data:image/png;base64,R0lGODlhDAAPAKIFAJh3AP/z...  \n",
       "1  data:image/png;base64,R0lGODlhDAAMAKIFAF5LAP/z...  \n",
       "2  data:image/png;base64,R0lGODlhDAAMAKIGAF5LAJh3...  \n",
       "3  data:image/png;base64,R0lGODlhDAAMAKIGAIoAAf/v...  \n",
       "4  data:image/png;base64,R0lGODlhEAAMAKIFAF5LAP/z...  "
      ]
     },
     "execution_count": 3,
     "metadata": {},
     "output_type": "execute_result"
    }
   ],
   "source": [
    "df_raw = pd.read_csv(PATH_CSV_FILE)\n",
    "df_raw.drop(columns=['SoftBank', 'DoCoMo', 'KDDI'], inplace=True)  # Drop uncommon emotion\n",
    "\n",
    "# Drop row with NaN\n",
    "df_raw.dropna(inplace=True)\n",
    "df_raw.reset_index(inplace=True)\n",
    "\n",
    "# if N_SAMPLES != None:\n",
    "#     df_raw = df_raw[:N_SAMPLES]\n",
    "#     df_raw.reset_index(inplace=True)\n",
    "\n",
    "\n",
    "print(f\"Shape of df_raw: {df_raw.shape}\")\n",
    "df_raw.head()"
   ]
  },
  {
   "cell_type": "markdown",
   "metadata": {},
   "source": [
    "In this application, we only consider the list of columns `['emoji', 'unicode', 'name']`"
   ]
  },
  {
   "cell_type": "code",
   "execution_count": 4,
   "metadata": {},
   "outputs": [
    {
     "name": "stdout",
     "output_type": "stream",
     "text": [
      "Shape of df: (708, 3)\n"
     ]
    },
    {
     "data": {
      "text/html": [
       "<div>\n",
       "<style scoped>\n",
       "    .dataframe tbody tr th:only-of-type {\n",
       "        vertical-align: middle;\n",
       "    }\n",
       "\n",
       "    .dataframe tbody tr th {\n",
       "        vertical-align: top;\n",
       "    }\n",
       "\n",
       "    .dataframe thead th {\n",
       "        text-align: right;\n",
       "    }\n",
       "</style>\n",
       "<table border=\"1\" class=\"dataframe\">\n",
       "  <thead>\n",
       "    <tr style=\"text-align: right;\">\n",
       "      <th></th>\n",
       "      <th>emoji</th>\n",
       "      <th>unicode</th>\n",
       "      <th>name</th>\n",
       "    </tr>\n",
       "  </thead>\n",
       "  <tbody>\n",
       "    <tr>\n",
       "      <th>0</th>\n",
       "      <td>😀</td>\n",
       "      <td>U+1F600</td>\n",
       "      <td>grinning face</td>\n",
       "    </tr>\n",
       "    <tr>\n",
       "      <th>1</th>\n",
       "      <td>😃</td>\n",
       "      <td>U+1F603</td>\n",
       "      <td>grinning face with big eyes</td>\n",
       "    </tr>\n",
       "    <tr>\n",
       "      <th>2</th>\n",
       "      <td>😄</td>\n",
       "      <td>U+1F604</td>\n",
       "      <td>grinning face with smiling eyes</td>\n",
       "    </tr>\n",
       "    <tr>\n",
       "      <th>3</th>\n",
       "      <td>😁</td>\n",
       "      <td>U+1F601</td>\n",
       "      <td>beaming face with smiling eyes</td>\n",
       "    </tr>\n",
       "    <tr>\n",
       "      <th>4</th>\n",
       "      <td>😆</td>\n",
       "      <td>U+1F606</td>\n",
       "      <td>grinning squinting face</td>\n",
       "    </tr>\n",
       "  </tbody>\n",
       "</table>\n",
       "</div>"
      ],
      "text/plain": [
       "  emoji  unicode                             name\n",
       "0     😀  U+1F600                    grinning face\n",
       "1     😃  U+1F603      grinning face with big eyes\n",
       "2     😄  U+1F604  grinning face with smiling eyes\n",
       "3     😁  U+1F601   beaming face with smiling eyes\n",
       "4     😆  U+1F606          grinning squinting face"
      ]
     },
     "execution_count": 4,
     "metadata": {},
     "output_type": "execute_result"
    }
   ],
   "source": [
    "df = df_raw[LIST_COLUMNS]\n",
    "print(f\"Shape of df: {df.shape}\")\n",
    "df.head()"
   ]
  },
  {
   "cell_type": "code",
   "execution_count": 5,
   "metadata": {},
   "outputs": [
    {
     "name": "stdout",
     "output_type": "stream",
     "text": [
      "Dtype of each column:\n",
      "<class 'pandas.core.frame.DataFrame'>\n",
      "RangeIndex: 708 entries, 0 to 707\n",
      "Data columns (total 3 columns):\n",
      " #   Column   Non-Null Count  Dtype \n",
      "---  ------   --------------  ----- \n",
      " 0   emoji    708 non-null    object\n",
      " 1   unicode  708 non-null    object\n",
      " 2   name     708 non-null    object\n",
      "dtypes: object(3)\n",
      "memory usage: 16.7+ KB\n"
     ]
    }
   ],
   "source": [
    "print(f\"Dtype of each column:\")\n",
    "df.info()"
   ]
  },
  {
   "cell_type": "code",
   "execution_count": 6,
   "metadata": {},
   "outputs": [
    {
     "name": "stdout",
     "output_type": "stream",
     "text": [
      "Emoji: 🍭\n",
      "Python type of emoju: <class 'str'>\n",
      "unicode: U+1F36D\n",
      "Name: lollipop\n"
     ]
    }
   ],
   "source": [
    "idx = np.random.randint(0, len(df))\n",
    "test_emoji = df.loc[idx, 'emoji']\n",
    "test_unicode = df.loc[idx, 'unicode']\n",
    "test_name = df.loc[idx, 'name']\n",
    "\n",
    "print(f\"Emoji: {test_emoji}\")\n",
    "print(f\"Python type of emoju: {type(test_emoji)}\")\n",
    "print(f\"unicode: {test_unicode}\")\n",
    "print(f\"Name: {test_name}\")"
   ]
  },
  {
   "cell_type": "markdown",
   "metadata": {},
   "source": [
    "# 2. Load dataset\n",
    "\n",
    "In this section, I will load dataset into `npy` format. Including:\n",
    "\n",
    "- We only take SINGLE unicode. \n",
    "- Data augmentation.\n",
    "- Save to `npy` format."
   ]
  },
  {
   "cell_type": "markdown",
   "metadata": {},
   "source": [
    "## 2.1. Load dataset "
   ]
  },
  {
   "cell_type": "code",
   "execution_count": 7,
   "metadata": {},
   "outputs": [
    {
     "name": "stdout",
     "output_type": "stream",
     "text": [
      "Number of emoji: 690\n"
     ]
    }
   ],
   "source": [
    "list_unicode = []\n",
    "list_name = []\n",
    "\n",
    "for i in range(len(df)):\n",
    "    unicode = df.loc[i, 'unicode']\n",
    "    name = df.loc[i, 'name']\n",
    "\n",
    "    if len(unicode.split()) == 1:\n",
    "        list_unicode.append(unicode)\n",
    "        list_name.append(name)\n",
    "\n",
    "assert len(list_unicode) == len(list_name)\n",
    "print(f\"Number of emoji: {len(list_unicode)}\")"
   ]
  },
  {
   "cell_type": "code",
   "execution_count": 8,
   "metadata": {},
   "outputs": [
    {
     "name": "stdout",
     "output_type": "stream",
     "text": [
      "Emoji: 🎂\n",
      "Name: birthday cake\n"
     ]
    }
   ],
   "source": [
    "idx = np.random.randint(0, len(list_unicode))\n",
    "\n",
    "unicode = list_unicode[idx]\n",
    "name = list_name[idx]\n",
    "\n",
    "print(f\"Emoji: {convert_unicode_2_emoji(unicode)}\")\n",
    "print(f\"Name: {name}\")"
   ]
  },
  {
   "cell_type": "markdown",
   "metadata": {},
   "source": [
    "## 2.2 Data augmentation"
   ]
  },
  {
   "cell_type": "code",
   "execution_count": 18,
   "metadata": {},
   "outputs": [],
   "source": [
    "def augment_text(sentence, glove_similar_model, max_iter=3):\n",
    "\n",
    "    iter = 0\n",
    "    while 1:\n",
    "        iter += 1\n",
    "        if iter > max_iter:  break\n",
    "        try:\n",
    "            seed = random.choice([1, 2, 3, 4])\n",
    "            if seed == 1:\n",
    "                new_sentence = sentence_synonyms_replacement(sentence)\n",
    "            elif seed == 2:\n",
    "                new_sentence = random_swap(sentence)\n",
    "            elif seed  == 3:\n",
    "                new_sentence = back_translation(sentence)\n",
    "            elif seed == 4:\n",
    "                new_sentence = sentence_similar_replacement(sentence, glove_similar_model)\n",
    "            else:\n",
    "                new_sentence = sentence\n",
    "            \n",
    "            if sentence != new_sentence:   break  # Find new text\n",
    "        except:\n",
    "            pass\n",
    "\n",
    "    return new_sentence"
   ]
  },
  {
   "cell_type": "code",
   "execution_count": 27,
   "metadata": {},
   "outputs": [],
   "source": [
    "def create_augment_text(sentence, glove_similar_model, n_iter=20):\n",
    "    list_new_sentence = set()\n",
    "    list_new_sentence.add(sentence)\n",
    "    \n",
    "    for i in range(n_iter):\n",
    "        new_sentence = augment_text(sentence, glove_similar_model)\n",
    "        list_new_sentence.add(new_sentence)\n",
    "    list_new_sentence.remove(sentence)\n",
    "    \n",
    "    return list(list_new_sentence)\n",
    "\n",
    "\n",
    "def create_augment_text_parallel(sentence, glove_similar_model, n_iter=20, n_cpus=4):\n",
    "    pool = multiprocessing.Pool(processes=n_cpus) \n",
    "\n",
    "    input_args = [(sentence, glove_similar_model) for i in range(n_iter)]\n",
    "    list_new_sentence = pool.starmap(augment_text, input_args)\n",
    "    list_new_sentence = set(list_new_sentence)\n",
    "    pool.close()\n",
    "    pool.join()\n",
    "\n",
    "    return list(list_new_sentence)"
   ]
  },
  {
   "cell_type": "code",
   "execution_count": 26,
   "metadata": {},
   "outputs": [
    {
     "name": "stdout",
     "output_type": "stream",
     "text": [
      "CPU times: user 2 µs, sys: 1e+03 ns, total: 3 µs\n",
      "Wall time: 9.54 µs\n",
      "Emoji: ♻\n",
      "Name: recycling symbol\n",
      "List possible new name:\n",
      "['symbol recycling', 'recycle image', 'reuse symbolic_representation', 'recycling icon', 'reprocess symbolisation', 'waste symbols', 'reuse symbolizes', 'recycle symbolizes', 'waste symbolizes', 'reprocess symbolic_representation']\n"
     ]
    }
   ],
   "source": [
    "%time\n",
    "idx = np.random.randint(0, len(list_unicode))\n",
    "\n",
    "unicode = list_unicode[idx]\n",
    "name = list_name[idx]\n",
    "\n",
    "print(f\"Emoji: {convert_unicode_2_emoji(unicode)}\")\n",
    "print(f\"Name: {name}\")\n",
    "\n",
    "print(f\"List possible new name:\")\n",
    "# print(create_augment_text(name, GLOVE_SIMILAR_MODEL, n_iter=20))\n",
    "print(create_augment_text_parallel(name, GLOVE_SIMILAR_MODEL, n_iter=20, n_cpus=multiprocessing.cpu_count()))"
   ]
  },
  {
   "cell_type": "code",
   "execution_count": 28,
   "metadata": {},
   "outputs": [
    {
     "name": "stdout",
     "output_type": "stream",
     "text": [
      "Number of NEW emoji: 7061\n"
     ]
    }
   ],
   "source": [
    "list_new_unicode = []\n",
    "list_new_name = []\n",
    "\n",
    "for (unicode, name) in zip(list_unicode, list_name):\n",
    "    list_new_unicode.append(unicode)\n",
    "    list_new_name.append(name)\n",
    "\n",
    "    try:\n",
    "        # list_augmented_name = create_augment_text(name, GLOVE_SIMILAR_MODEL)\n",
    "        list_augmented_name = create_augment_text_parallel(name, GLOVE_SIMILAR_MODEL)\n",
    "        for augmented_name in list_augmented_name:\n",
    "            list_new_unicode.append(unicode)\n",
    "            list_new_name.append(augmented_name)\n",
    "    except:\n",
    "        pass\n",
    "\n",
    "assert len(list_new_unicode) == len(list_new_name)\n",
    "print(f\"Number of NEW emoji: {len(list_new_unicode)}\")"
   ]
  },
  {
   "cell_type": "code",
   "execution_count": 32,
   "metadata": {},
   "outputs": [
    {
     "name": "stdout",
     "output_type": "stream",
     "text": [
      "Emoji: 🐭\n",
      "Name: mouse face\n"
     ]
    }
   ],
   "source": [
    "idx = np.random.randint(0, len(list_unicode))\n",
    "\n",
    "unicode = list_unicode[idx]\n",
    "name = list_name[idx]\n",
    "\n",
    "print(f\"Emoji: {convert_unicode_2_emoji(unicode)}\")\n",
    "print(f\"Name: {name}\")"
   ]
  },
  {
   "cell_type": "markdown",
   "metadata": {},
   "source": [
    "# 3. Save dataset\n",
    "\n",
    "We will save the processed dataset into `npy` file."
   ]
  },
  {
   "cell_type": "markdown",
   "metadata": {},
   "source": [
    "## 3.1 Remove label with only 1 sample"
   ]
  },
  {
   "cell_type": "code",
   "execution_count": 33,
   "metadata": {},
   "outputs": [
    {
     "name": "stdout",
     "output_type": "stream",
     "text": [
      "List removal: ['U+1F4AB', 'U+1F4AB', 'U+1F4AB', 'U+1F4AB', 'U+1F4AB', 'U+1F44C', 'U+1F443', 'U+1F443', 'U+1F443', 'U+1F443', 'U+1F443', 'U+1F645', 'U+1F478', 'U+1F478', 'U+1F478', 'U+1F478', 'U+1F3C2', 'U+1F3C2', 'U+1F3C2', 'U+1F3C2', 'U+1F3C2', 'U+1F411', 'U+1F411', 'U+1F411', 'U+1F411', 'U+1F411', 'U+1F42B', 'U+1F42B', 'U+1F42B', 'U+1F42B', 'U+1F418', 'U+1F418', 'U+1F418', 'U+1F418', 'U+1F418', 'U+1F43B', 'U+1F43B', 'U+1F43B', 'U+1F43B', 'U+1F43B', 'U+1F427', 'U+1F427', 'U+1F427', 'U+1F427', 'U+1F427', 'U+1F419', 'U+1F419', 'U+1F419', 'U+1F419', 'U+1F419', 'U+1F33A', 'U+1F33A', 'U+1F33A', 'U+1F33A', 'U+1F33A', 'U+1F331', 'U+1F331', 'U+1F331', 'U+1F331', 'U+1F331', 'U+1F348', 'U+1F348', 'U+1F348', 'U+1F348', 'U+1F348', 'U+1F35D', 'U+1F35D', 'U+1F35D', 'U+1F35D', 'U+1F35D', 'U+1F362', 'U+1F362', 'U+1F362', 'U+1F362', 'U+1F362', 'U+1F361', 'U+1F361', 'U+1F361', 'U+1F361', 'U+1F361', 'U+1F36A', 'U+1F36A', 'U+1F36A', 'U+1F36A', 'U+1F36A', 'U+1F36E', 'U+1F36E', 'U+1F36E', 'U+1F36E', 'U+1F36E', 'U+1F3E8', 'U+1F3E8', 'U+1F3E8', 'U+1F3E8', 'U+1F3E8', 'U+1F3EF', 'U+1F5FC', 'U+1F307', 'U+1F307', 'U+1F307', 'U+1F307', 'U+1F307', 'U+1F691', 'U+1F691', 'U+1F691', 'U+1F691', 'U+1F691', 'U+1F6A4', 'U+1F6A4', 'U+1F6A4', 'U+1F6A4', 'U+1F6A4', 'U+1F6A2', 'U+1F6A2', 'U+1F6A2', 'U+1F6A2', 'U+1F6A2', 'U+1F308', 'U+1F308', 'U+1F308', 'U+1F308', 'U+1F308', 'U+1F4A7', 'U+1F4A7', 'U+1F4A7', 'U+1F4A7', 'U+1F4A7', 'U+1F383', 'U+1F383', 'U+1F383', 'U+1F384', 'U+1F386', 'U+1F386', 'U+1F386', 'U+1F386', 'U+1F386', 'U+1F388', 'U+1F388', 'U+1F388', 'U+1F388', 'U+1F388', 'U+1F3B3', 'U+1F3B3', 'U+1F3B3', 'U+1F3B3', 'U+1F3B3', 'U+1F454', 'U+1F454', 'U+1F454', 'U+1F454', 'U+1F454', 'U+1F458', 'U+1F458', 'U+1F458', 'U+1F458', 'U+1F458', 'U+1F461', 'U+1F452', 'U+1F3B8', 'U+1F3B8', 'U+1F3B8', 'U+1F3B8', 'U+1F3B8', 'U+1F3BB', 'U+1F3BB', 'U+1F3BB', 'U+1F3BB', 'U+1F3BB', 'U+1F4E7', 'U+1F4E7', 'U+1F4E7', 'U+1F4E7', 'U+1F4E7', 'U+1F4EE', 'U+1F4EE', 'U+1F4EE', 'U+1F4EE', 'U+1F4EE', 'U+270F', 'U+270F', 'U+270F', 'U+270F', 'U+270F', 'U+1F4C5', 'U+1F4C5', 'U+1F4C5', 'U+1F4C5', 'U+1F4C5', 'U+1F4C6', 'U+1F4C6', 'U+1F4C6', 'U+1F4C6', 'U+1F4CC', 'U+1F4CC', 'U+1F4CC', 'U+1F4CC', 'U+1F4CC', 'U+1F513', 'U+1F513', 'U+1F513', 'U+1F513', 'U+1F513', 'U+1F489', 'U+1F489', 'U+1F489', 'U+1F489', 'U+1F489', 'U+1F5FF', 'U+1F5FF', 'U+1F5FF', 'U+1F5FF', 'U+1F5FF', 'U+1F6BA', 'U+2197', 'U+2197', 'U+2197', 'U+2197', 'U+2198', 'U+2198', 'U+2198', 'U+2198', 'U+2198', 'U+2199', 'U+2199', 'U+2199', 'U+2199', 'U+2199', 'U+2196', 'U+2196', 'U+2196', 'U+2196', 'U+1F51B', 'U+1F51B', 'U+1F51B', 'U+1F51B', 'U+2648', 'U+2648', 'U+2648', 'U+2648', 'U+2649', 'U+264A', 'U+264A', 'U+264A', 'U+264A', 'U+264A', 'U+264B', 'U+264C', 'U+264C', 'U+264C', 'U+264C', 'U+264D', 'U+264D', 'U+264D', 'U+264D', 'U+264E', 'U+264F', 'U+2650', 'U+2650', 'U+2650', 'U+2650', 'U+2650', 'U+2651', 'U+2651', 'U+2651', 'U+2651', 'U+2651', 'U+2652', 'U+2652', 'U+2652', 'U+2652', 'U+2653', 'U+2653', 'U+2653', 'U+2653', 'U+26CE', 'U+26CE', 'U+2733', 'U+2733', 'U+2733', 'U+2733', 'U+1F51F', 'U+1F51F', 'U+1F51F', 'U+1F51F', 'U+1F51F', 'U+1F18E', 'U+1F171', 'U+1F195', 'U+1F195', 'U+1F195', 'U+1F195', 'U+1F195', 'U+1F196', 'U+1F197', 'U+1F19A', 'U+1F201', 'U+1F237', 'U+1F250', 'U+1F21A', 'U+3297', 'U+25FE']\n"
     ]
    }
   ],
   "source": [
    "histogram = Counter(list_new_unicode)\n",
    "\n",
    "removal_list = [unicode for unicode in list_new_unicode if histogram[unicode] <= 5]\n",
    "print(f\"List removal: {removal_list}\")"
   ]
  },
  {
   "cell_type": "code",
   "execution_count": 34,
   "metadata": {},
   "outputs": [
    {
     "name": "stdout",
     "output_type": "stream",
     "text": [
      "Indices of removal: [array([], dtype=int64), array([], dtype=int64), array([], dtype=int64), array([], dtype=int64), array([], dtype=int64), array([], dtype=int64), array([], dtype=int64), array([], dtype=int64), array([], dtype=int64), array([], dtype=int64), array([], dtype=int64), array([], dtype=int64), array([], dtype=int64), array([], dtype=int64), array([], dtype=int64), array([], dtype=int64), array([], dtype=int64), array([], dtype=int64), array([], dtype=int64), array([], dtype=int64), array([], dtype=int64), array([], dtype=int64), array([], dtype=int64), array([], dtype=int64), array([], dtype=int64), array([], dtype=int64), array([], dtype=int64), array([], dtype=int64), array([], dtype=int64), array([], dtype=int64), array([], dtype=int64), array([], dtype=int64), array([], dtype=int64), array([], dtype=int64), array([], dtype=int64), array([], dtype=int64), array([], dtype=int64), array([], dtype=int64), array([], dtype=int64), array([], dtype=int64), array([], dtype=int64), array([], dtype=int64), array([], dtype=int64), array([], dtype=int64), array([], dtype=int64), array([], dtype=int64), array([], dtype=int64), array([], dtype=int64), array([], dtype=int64), array([], dtype=int64), array([], dtype=int64), array([], dtype=int64), array([], dtype=int64), array([], dtype=int64), array([], dtype=int64), array([], dtype=int64), array([], dtype=int64), array([], dtype=int64), array([], dtype=int64), array([], dtype=int64), array([], dtype=int64), array([], dtype=int64), array([], dtype=int64), array([], dtype=int64), array([], dtype=int64), array([], dtype=int64), array([], dtype=int64), array([], dtype=int64), array([], dtype=int64), array([], dtype=int64), array([], dtype=int64), array([], dtype=int64), array([], dtype=int64), array([], dtype=int64), array([], dtype=int64), array([], dtype=int64), array([], dtype=int64), array([], dtype=int64), array([], dtype=int64), array([], dtype=int64), array([], dtype=int64), array([], dtype=int64), array([], dtype=int64), array([], dtype=int64), array([], dtype=int64), array([], dtype=int64), array([], dtype=int64), array([], dtype=int64), array([], dtype=int64), array([], dtype=int64), array([], dtype=int64), array([], dtype=int64), array([], dtype=int64), array([], dtype=int64), array([], dtype=int64), array([], dtype=int64), array([], dtype=int64), array([], dtype=int64), array([], dtype=int64), array([], dtype=int64), array([], dtype=int64), array([], dtype=int64), array([], dtype=int64), array([], dtype=int64), array([], dtype=int64), array([], dtype=int64), array([], dtype=int64), array([], dtype=int64), array([], dtype=int64), array([], dtype=int64), array([], dtype=int64), array([], dtype=int64), array([], dtype=int64), array([], dtype=int64), array([], dtype=int64), array([], dtype=int64), array([], dtype=int64), array([], dtype=int64), array([], dtype=int64), array([], dtype=int64), array([], dtype=int64), array([], dtype=int64), array([], dtype=int64), array([], dtype=int64), array([], dtype=int64), array([], dtype=int64), array([], dtype=int64), array([], dtype=int64), array([], dtype=int64), array([], dtype=int64), array([], dtype=int64), array([], dtype=int64), array([], dtype=int64), array([], dtype=int64), array([], dtype=int64), array([], dtype=int64), array([], dtype=int64), array([], dtype=int64), array([], dtype=int64), array([], dtype=int64), array([], dtype=int64), array([], dtype=int64), array([], dtype=int64), array([], dtype=int64), array([], dtype=int64), array([], dtype=int64), array([], dtype=int64), array([], dtype=int64), array([], dtype=int64), array([], dtype=int64), array([], dtype=int64), array([], dtype=int64), array([], dtype=int64), array([], dtype=int64), array([], dtype=int64), array([], dtype=int64), array([], dtype=int64), array([], dtype=int64), array([], dtype=int64), array([], dtype=int64), array([], dtype=int64), array([], dtype=int64), array([], dtype=int64), array([], dtype=int64), array([], dtype=int64), array([], dtype=int64), array([], dtype=int64), array([], dtype=int64), array([], dtype=int64), array([], dtype=int64), array([], dtype=int64), array([], dtype=int64), array([], dtype=int64), array([], dtype=int64), array([], dtype=int64), array([], dtype=int64), array([], dtype=int64), array([], dtype=int64), array([], dtype=int64), array([], dtype=int64), array([], dtype=int64), array([], dtype=int64), array([], dtype=int64), array([], dtype=int64), array([], dtype=int64), array([], dtype=int64), array([], dtype=int64), array([], dtype=int64), array([], dtype=int64), array([], dtype=int64), array([], dtype=int64), array([], dtype=int64), array([], dtype=int64), array([], dtype=int64), array([], dtype=int64), array([], dtype=int64), array([], dtype=int64), array([], dtype=int64), array([], dtype=int64), array([], dtype=int64), array([], dtype=int64), array([], dtype=int64), array([], dtype=int64), array([], dtype=int64), array([], dtype=int64), array([], dtype=int64), array([], dtype=int64), array([], dtype=int64), array([], dtype=int64), array([], dtype=int64), array([], dtype=int64), array([], dtype=int64), array([], dtype=int64), array([], dtype=int64), array([], dtype=int64), array([], dtype=int64), array([], dtype=int64), array([], dtype=int64), array([], dtype=int64), array([], dtype=int64), array([], dtype=int64), array([], dtype=int64), array([], dtype=int64), array([], dtype=int64), array([], dtype=int64), array([], dtype=int64), array([], dtype=int64), array([], dtype=int64), array([], dtype=int64), array([], dtype=int64), array([], dtype=int64), array([], dtype=int64), array([], dtype=int64), array([], dtype=int64), array([], dtype=int64), array([], dtype=int64), array([], dtype=int64), array([], dtype=int64), array([], dtype=int64), array([], dtype=int64), array([], dtype=int64), array([], dtype=int64), array([], dtype=int64), array([], dtype=int64), array([], dtype=int64), array([], dtype=int64), array([], dtype=int64), array([], dtype=int64), array([], dtype=int64), array([], dtype=int64), array([], dtype=int64), array([], dtype=int64), array([], dtype=int64), array([], dtype=int64), array([], dtype=int64), array([], dtype=int64), array([], dtype=int64), array([], dtype=int64), array([], dtype=int64), array([], dtype=int64), array([], dtype=int64), array([], dtype=int64), array([], dtype=int64), array([], dtype=int64), array([], dtype=int64), array([], dtype=int64), array([], dtype=int64), array([], dtype=int64), array([], dtype=int64), array([], dtype=int64), array([], dtype=int64), array([], dtype=int64), array([], dtype=int64), array([], dtype=int64), array([], dtype=int64), array([], dtype=int64), array([], dtype=int64), array([], dtype=int64), array([], dtype=int64), array([], dtype=int64), array([], dtype=int64), array([], dtype=int64), array([], dtype=int64), array([], dtype=int64), array([], dtype=int64), array([], dtype=int64), array([], dtype=int64), array([], dtype=int64), array([], dtype=int64), array([], dtype=int64), array([], dtype=int64), array([], dtype=int64), array([], dtype=int64), array([], dtype=int64), array([], dtype=int64), array([], dtype=int64), array([], dtype=int64), array([], dtype=int64), array([], dtype=int64), array([], dtype=int64), array([], dtype=int64)]\n"
     ]
    }
   ],
   "source": [
    "removal_indices = [np.where(element == list_new_unicode)[0] for element in removal_list]\n",
    "print(f\"Indices of removal: {removal_indices}\")"
   ]
  },
  {
   "cell_type": "code",
   "execution_count": 35,
   "metadata": {},
   "outputs": [],
   "source": [
    "list_new_unicode = np.delete(list_new_unicode, removal_indices)\n",
    "list_new_name = np.delete(list_new_name, removal_indices)"
   ]
  },
  {
   "cell_type": "code",
   "execution_count": 36,
   "metadata": {},
   "outputs": [
    {
     "name": "stdout",
     "output_type": "stream",
     "text": [
      "Number of target name: 690\n"
     ]
    }
   ],
   "source": [
    "print(f\"Number of target name: {len(np.unique(list_new_unicode))}\") "
   ]
  },
  {
   "cell_type": "markdown",
   "metadata": {},
   "source": [
    "## 3.2. Save into `npy` file"
   ]
  },
  {
   "cell_type": "code",
   "execution_count": 38,
   "metadata": {},
   "outputs": [],
   "source": [
    "list_new_unicode = np.array(list_new_unicode)\n",
    "list_new_name = np.array(list_new_name)\n",
    "\n",
    "np.save(os.path.join(f\"{PATH_FOLDER_PROCESSED_DATA}\", \"list_processed_unicode.npy\"), list_new_unicode)\n",
    "np.save(os.path.join(f\"{PATH_FOLDER_PROCESSED_DATA}\", \"list_processed_name.npy\"), list_new_name)"
   ]
  },
  {
   "cell_type": "code",
   "execution_count": null,
   "metadata": {},
   "outputs": [],
   "source": []
  }
 ],
 "metadata": {
  "kernelspec": {
   "display_name": "ds_env",
   "language": "python",
   "name": "python3"
  },
  "language_info": {
   "codemirror_mode": {
    "name": "ipython",
    "version": 3
   },
   "file_extension": ".py",
   "mimetype": "text/x-python",
   "name": "python",
   "nbconvert_exporter": "python",
   "pygments_lexer": "ipython3",
   "version": "3.9.18"
  }
 },
 "nbformat": 4,
 "nbformat_minor": 2
}
